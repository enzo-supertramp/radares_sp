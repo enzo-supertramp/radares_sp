{
 "cells": [
  {
   "cell_type": "markdown",
   "id": "c0ebb33b",
   "metadata": {},
   "source": [
    "# Solicitações Dados Radar SP"
   ]
  },
  {
   "cell_type": "markdown",
   "id": "375bf411",
   "metadata": {},
   "source": [
    "Objetivo: Obter arquivo JSON de cada viagem_id, com discriminação das rotas e seus arcos "
   ]
  },
  {
   "cell_type": "markdown",
   "id": "cb9328bc",
   "metadata": {},
   "source": [
    "http://dadosradares.prefeitura.sp.gov.br/"
   ]
  },
  {
   "cell_type": "code",
   "execution_count": null,
   "id": "a2f6cb66",
   "metadata": {},
   "outputs": [],
   "source": [
    "import requests\n",
    "import json\n",
    "import os\n",
    "from tqdm import tqdm"
   ]
  },
  {
   "cell_type": "markdown",
   "id": "a1aa9aa6",
   "metadata": {},
   "source": [
    "# 1 - Códigos dos radares e Datas com dados registrados"
   ]
  },
  {
   "cell_type": "markdown",
   "id": "73b04aa4",
   "metadata": {},
   "source": [
    "## getLocais"
   ]
  },
  {
   "cell_type": "markdown",
   "id": "78715dd0",
   "metadata": {},
   "source": [
    "Obtem (e arquiva) os códigos dos radares (alguns radares possuem mais de 1 código)"
   ]
  },
  {
   "cell_type": "code",
   "execution_count": null,
   "id": "69f8a932",
   "metadata": {},
   "outputs": [],
   "source": [
    "# Obtenção dos códigos de cada radar\n",
    "r = requests.get(\"http://<emailregistrado>:<senha>@dadosradares.prefeitura.sp.gov.br/getLocais/\")\n",
    "try: codigos = open(\"codigos_radares.txt\").read().splitlines()\n",
    "except:\n",
    "    codigos = []\n",
    "    for i in r.json():\n",
    "        for j in i[\"codigos\"]: codigos.append(j)\n",
    "            \n",
    "    # Salvar lista como codigos_radares\n",
    "    with open(\"codigos_radares.txt\", \"w\") as outfile:\n",
    "        outfile.write(\"\\n\".join(str(item) for item in codigos))\n",
    "\n",
    "len(codigos)"
   ]
  },
  {
   "cell_type": "markdown",
   "id": "76f8d803",
   "metadata": {},
   "source": [
    "## getDatas"
   ]
  },
  {
   "cell_type": "markdown",
   "id": "fed79252",
   "metadata": {},
   "source": [
    "Obtem (e arquiva) lista com todas as datas disponíveis"
   ]
  },
  {
   "cell_type": "code",
   "execution_count": null,
   "id": "2d2ad7fb",
   "metadata": {},
   "outputs": [],
   "source": [
    "# Obter lista de todas as datas\n",
    "\n",
    "try: datas = open(\"datas.txt\").read().splitlines()\n",
    "except:\n",
    "    r_2 = requests.get(\"http://dadosradares.prefeitura.sp.gov.br/getDatas/\")\n",
    "    datas = r_2.json()[\"results\"]\n",
    "    \n",
    "    # Salvar lista com as datas\n",
    "    with open(\"datas.txt\", \"w\") as outfile:\n",
    "        outfile.write(\"\\n\".join(str(item) for item in datas))\n",
    "\n",
    "#datas # Para visualizar todas as datas disponíveis"
   ]
  },
  {
   "cell_type": "markdown",
   "id": "f1a9d8e8",
   "metadata": {},
   "source": [
    "# 2 - Obtenção de lista com viagem_id"
   ]
  },
  {
   "cell_type": "markdown",
   "id": "be0ba06a",
   "metadata": {},
   "source": [
    "## getViagens"
   ]
  },
  {
   "cell_type": "markdown",
   "id": "6d1ccd29",
   "metadata": {},
   "source": [
    "Acessa o getViagens usando um codigo ou lista de códigos do radar, data específica e horas ou range de horas para obter uma lista com viagem_id"
   ]
  },
  {
   "cell_type": "code",
   "execution_count": null,
   "id": "6163e68d",
   "metadata": {},
   "outputs": [],
   "source": [
    "# Definição do período a ser analisado\n",
    "\n",
    "# http://dadosradares.prefeitura.sp.gov.br/getViagens/<YYYY-MM-DD>/<hora>/<codigo>/  # Modelo para solicitação\n",
    "url = \"http://<emailregistrado>:<senha>@dadosradares.prefeitura.sp.gov.br/getViagens/\"\n",
    "data = \"16/02/2019\"  # Data avaliada\n",
    "codigo = [\"2654\",\"5441\",\"5317\",\"2448\",\"2643\",\"5208\",\"4388\",\"4395\",\"4401\",\"6825\",\"1201\",\"4594\",\"5418\"] # código único [\"<codigo>\"] ou lista codigos[<index>:<index>] ou [\"codigo_1\",\"codigo_2\",\"codigo_3\"]  \n",
    "hora = range(7,11)  # Hora específica (15) ou período (range(15,18))"
   ]
  },
  {
   "cell_type": "code",
   "execution_count": null,
   "id": "d2b804c7",
   "metadata": {
    "scrolled": true
   },
   "outputs": [],
   "source": [
    "# Gera uma lista com todos os id's de viagem (viagem_id) e um modelo JSON (r_3.json())\n",
    "\n",
    "viagem_id = []  # Lista final com ids conseguidos\n",
    "YYYY = data[6:10]\n",
    "MM = data[3:5]\n",
    "DD = data[0:2]\n",
    "for c in codigo:\n",
    "    if type(hora) != range:\n",
    "        h = hora\n",
    "        url_2 = url+YYYY+\"-\"+MM+\"-\"+DD+\"/\"+str(h)+\"/\"+c  # URL final para cada um dos dados\n",
    "        print (url_2) # Caso queira checar manualmente os links para entender a requisição do json\n",
    "        r_3 = requests.get(url_2)       \n",
    "        \n",
    "        if ((r_3.json()[\"total\"] < 1) or (r_3.json()[\"total\"] == None)): continue # Desconsidera quando não há registros\n",
    "        \n",
    "        for k in  r_3.json()[\"result\"]:\n",
    "            if k[\"id\"] not in viagem_id: viagem_id.append(k[\"id\"])\n",
    "            viagem_id.append(k[\"id\"])\n",
    "        print(\"codigo do radar:\",c,\"\\n\"\n",
    "              \"hora da viagem:\",h,\"\\n\"\n",
    "              \"total de viagens:\",r_3.json()[\"total\"])\n",
    "            \n",
    "    else:\n",
    "        for h in hora:\n",
    "            url_2 = url+YYYY+\"-\"+MM+\"-\"+DD+\"/\"+str(h)+\"/\"+c  # URL final para cada um dos dados\n",
    "            print (url_2) # Caso queira checar manualmente os links para entender a requisição do json\n",
    "            r_3 = requests.get(url_2)       \n",
    "            \n",
    "            if ((r_3.json()[\"total\"] < 1) or (r_3.json()[\"total\"] == None)): continue # Desconsidera qunado não há registros\n",
    "                \n",
    "            for k in  r_3.json()[\"result\"]:\n",
    "                if k[\"id\"] not in viagem_id: viagem_id.append(k[\"id\"])\n",
    "            print(\"codigo do radar:\",c,\"\\n\"\n",
    "                  \"hora da viagem:\",h,\"\\n\"\n",
    "                  \"total de viagens:\",r_3.json()[\"total\"])\n",
    "    \n",
    "    # Caso queira limitar o tamanho da amostra\n",
    "    if len(viagem_id) > 2000: break\n"
   ]
  },
  {
   "cell_type": "markdown",
   "id": "97d49e0c",
   "metadata": {},
   "source": [
    "# 3 - Download dos Resultados"
   ]
  },
  {
   "cell_type": "markdown",
   "id": "332e2125",
   "metadata": {},
   "source": [
    "## getTrajetos"
   ]
  },
  {
   "cell_type": "markdown",
   "id": "95ed3a67",
   "metadata": {},
   "source": [
    "Obtem viagens e pontos de passagem, extraindo todos os códigos dos radares e horários. \n"
   ]
  },
  {
   "cell_type": "code",
   "execution_count": null,
   "id": "71fc1ef1",
   "metadata": {
    "scrolled": true
   },
   "outputs": [],
   "source": [
    "# Não rodar quando for obter rotas em bloco, indica quantos pontos de passagem cada viagem_id tem (interromper Kernel -> Interrupt)\n",
    "count = 0\n",
    "for i in viagem_id:\n",
    "    r_4 = requests.get(\"http://<emailregistrado>:<senha>@dadosradares.prefeitura.sp.gov.br/getTrajetos/\"+str(i))\n",
    "    print(\"viagem_id:\",i,\"\\n\"\n",
    "        \"viagem com\",r_4.json()[\"total\"],\"pontos de passagem\",\"\\n\")\n",
    "    count += 1\n",
    "    #if count == 30: break\n"
   ]
  },
  {
   "cell_type": "code",
   "execution_count": null,
   "id": "c1802958",
   "metadata": {},
   "outputs": [],
   "source": [
    "# Função a ser aplicada em cada elemento da viagem_id\n",
    "def rota(id):\n",
    "    dados_radares_dict = {}\n",
    "    dados_radares = []\n",
    "    dados_radares.append({\"viagem_id\":id})\n",
    "    \n",
    "    \n",
    "    # http://dadosradares.prefeitura.sp.gov.br/getTrajetos/<viagem_id>/  # Modelo para solicitação\n",
    "    r_4 = requests.get(\"http://<emailregistrado>:<senha>@dadosradares.prefeitura.sp.gov.br/getTrajetos/\"+str(id))\n",
    "    \n",
    "    # Dicionário com informações específicas salvas em uma lista final a ser exportada e importada pelo script TomTom\n",
    "    for v in r_4.json()[\"result\"]:\n",
    "        \n",
    "        if (str(v[\"inicio\"]) or str(v[\"final\"]) in codigos) == 0:\n",
    "            print(\"Rota_\"+str(id)+\" não é elegível\",\"\\n\"\n",
    "                  \"Radar\",v[\"inicio\"],\"ou radar\",v[\"final\"],\"não está no banco de dados, ver getLocais\",\"\\n\")\n",
    "            status = \"off\"\n",
    "            break\n",
    "        \n",
    "        status = \"on\"\n",
    "        dados_radares_dict[\"radar_inicio\"] = v[\"inicio\"]\n",
    "        dados_radares_dict[\"radar_final\"] = v[\"final\"]\n",
    "        dados_radares_dict[\"data_inicio\"] =  v[\"data_inicio\"]\n",
    "        dados_radares_dict[\"data_final\"] = v[\"data_final\"]\n",
    "        \n",
    "        # Estrutura loop, que compara os códigos dos radares do getLocais e quando equivalente ao código registrado no arco\n",
    "        # (inicio ou final) armazena suas coordenadas no dicionário\n",
    "        for i in r.json():\n",
    "            for j in i[\"codigo\"]:\n",
    "                if str(dados_radares_dict[\"radar_inicio\"]) == str(j):\n",
    "                    dados_radares_dict[\"lat_inicio\"] = i[\"y\"]\n",
    "                    dados_radares_dict[\"long_inicio\"] = i[\"x\"]\n",
    "                elif str(dados_radares_dict[\"radar_final\"]) == str(j):\n",
    "                    dados_radares_dict[\"lat_final\"] = i[\"y\"]\n",
    "                    dados_radares_dict[\"long_final\"] = i[\"x\"]\n",
    "        dados_radares.append(dados_radares_dict.copy())\n",
    "    return dados_radares,status"
   ]
  },
  {
   "cell_type": "code",
   "execution_count": null,
   "id": "12f8991a",
   "metadata": {},
   "outputs": [],
   "source": [
    "viagem_id[756]"
   ]
  },
  {
   "cell_type": "code",
   "execution_count": null,
   "id": "6aafe47a",
   "metadata": {
    "scrolled": true
   },
   "outputs": [],
   "source": [
    "# Cria pasta para armazenamento dos resultados\n",
    "try:\n",
    "    foldername_arquivos = r\"rotas\"\n",
    "    os.mkdir(foldername_arquivos)\n",
    "except: \n",
    "    print(\"Pasta já Existente\")\n",
    "\n",
    "viagem_id_erro = []\n",
    "for i in tqdm(viagem_id[756]):\n",
    "    dados,status = rota(i)\n",
    "    \n",
    "    if status == \"off\":\n",
    "        viagem_id_erro.append(\"rota_\"+str(i))\n",
    "        continue\n",
    "    \n",
    "    with open(r\"rotas\\rota_\"+str(i)+\".json\", \"w\") as outfile:\n",
    "        json.dump(dados, outfile)\n",
    "    "
   ]
  },
  {
   "cell_type": "code",
   "execution_count": null,
   "id": "b4f13e82",
   "metadata": {},
   "outputs": [],
   "source": [
    "# Salvando Informações Gerais\n",
    "print(\n",
    "\"Viagens totais analisadas:\",len(viagem_id),\"\\n\"\n",
    "\"Viagens rejeitadas:\",len(viagem_id_erro),\"\\n\"\n",
    "\"Viagens salvas:\",len(viagem_id)-len(viagem_id_erro))\n",
    "\n",
    "with open(\"viagens_rejeitadas.txt\", \"w\") as outfile:\n",
    "    outfile.write(\"\\n\".join(str(item) for item in viagem_id_erro))\n"
   ]
  }
 ],
 "metadata": {
  "kernelspec": {
   "display_name": "Python 3",
   "language": "python",
   "name": "python3"
  },
  "language_info": {
   "codemirror_mode": {
    "name": "ipython",
    "version": 3
   },
   "file_extension": ".py",
   "mimetype": "text/x-python",
   "name": "python",
   "nbconvert_exporter": "python",
   "pygments_lexer": "ipython3",
   "version": "3.8.8"
  }
 },
 "nbformat": 4,
 "nbformat_minor": 5
}
